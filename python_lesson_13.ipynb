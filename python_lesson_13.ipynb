{
 "cells": [
  {
   "cell_type": "code",
   "execution_count": null,
   "metadata": {},
   "outputs": [],
   "source": [
    "# py içine yazılan fonksiyonlar modül dür\n",
    "# t yeni py uzantılı dosya varsa  bunu   python dosyaadı.py ile açmalıyız.\n",
    "# ctr + k + c  seçilen yerleri yoruma alır. yorumdan çıkarmak için ctr + k + u\n",
    "# from new import factorial_calculate from ile sadece import edilen özellik kullanılır.\n",
    "# sadece import yapılan  modulus tüm özellikleri kullanır.\n",
    "#from new import * asterix ile  tüm fonklar çağrılabilir.\n",
    "# pycache çalıştığı için çıkar.\n",
    "# module ulaşılamıyorsa modulenotfound"
   ]
  },
  {
   "cell_type": "code",
   "execution_count": null,
   "metadata": {},
   "outputs": [],
   "source": [
    "# __name__ modül ismini yazdırmak için"
   ]
  },
  {
   "cell_type": "code",
   "execution_count": null,
   "metadata": {},
   "outputs": [],
   "source": [
    "# __doc__ açıklamaları yazdırır."
   ]
  },
  {
   "cell_type": "code",
   "execution_count": null,
   "metadata": {},
   "outputs": [],
   "source": [
    "# _file_  dosyanın yoılunu gösterir"
   ]
  },
  {
   "cell_type": "code",
   "execution_count": null,
   "metadata": {},
   "outputs": [],
   "source": [
    "# __dict__ modülün içindeki özellikleri gösteriri"
   ]
  },
  {
   "cell_type": "code",
   "execution_count": null,
   "metadata": {},
   "outputs": [],
   "source": [
    "# help(\"modül name\") modül hakkında açıklamaları gösteriri"
   ]
  },
  {
   "cell_type": "code",
   "execution_count": null,
   "metadata": {},
   "outputs": [],
   "source": [
    "#dir(modül_name) modüle ait fonksiyonları gösteriri"
   ]
  }
 ],
 "metadata": {
  "language_info": {
   "name": "python"
  }
 },
 "nbformat": 4,
 "nbformat_minor": 2
}

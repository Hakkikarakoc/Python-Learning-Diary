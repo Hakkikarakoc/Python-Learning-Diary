{
 "cells": [
  {
   "cell_type": "markdown",
   "metadata": {},
   "source": [
    "# print()"
   ]
  },
  {
   "cell_type": "code",
   "execution_count": 1,
   "metadata": {},
   "outputs": [
    {
     "name": "stdout",
     "output_type": "stream",
     "text": [
      "TechPro Education\n"
     ]
    }
   ],
   "source": [
    "print(\"TechPro Education\")"
   ]
  },
  {
   "cell_type": "code",
   "execution_count": 3,
   "metadata": {},
   "outputs": [
    {
     "name": "stdout",
     "output_type": "stream",
     "text": [
      "TechPro Education\n"
     ]
    }
   ],
   "source": [
    "course = \"TechPro Education\"\n",
    "print(course)"
   ]
  },
  {
   "cell_type": "code",
   "execution_count": 1,
   "metadata": {},
   "outputs": [
    {
     "name": "stdout",
     "output_type": "stream",
     "text": [
      "Sedatyasinfurkan\n"
     ]
    }
   ],
   "source": [
    "print(\"Sedat\" ,\"yasin\" , \"furkan\") "
   ]
  },
  {
   "cell_type": "code",
   "execution_count": 5,
   "metadata": {},
   "outputs": [
    {
     "name": "stdout",
     "output_type": "stream",
     "text": [
      "Sedat yasin furkan\n"
     ]
    }
   ],
   "source": [
    "print(\"Sedat\" ,      \"yasin\" ,      \"furkan\") "
   ]
  },
  {
   "cell_type": "code",
   "execution_count": 6,
   "metadata": {},
   "outputs": [
    {
     "name": "stdout",
     "output_type": "stream",
     "text": [
      "Help on built-in function print in module builtins:\n",
      "\n",
      "print(*args, sep=' ', end='\\n', file=None, flush=False)\n",
      "    Prints the values to a stream, or to sys.stdout by default.\n",
      "\n",
      "    sep\n",
      "      string inserted between values, default a space.\n",
      "    end\n",
      "      string appended after the last value, default a newline.\n",
      "    file\n",
      "      a file-like object (stream); defaults to the current sys.stdout.\n",
      "    flush\n",
      "      whether to forcibly flush the stream.\n",
      "\n"
     ]
    }
   ],
   "source": [
    "help(print)"
   ]
  },
  {
   "cell_type": "code",
   "execution_count": 3,
   "metadata": {},
   "outputs": [
    {
     "name": "stdout",
     "output_type": "stream",
     "text": [
      "Sedat yasin furkan\n"
     ]
    }
   ],
   "source": [
    "print(\"Sedat\" , \"yasin\" , \"furkan\" , sep =\"*\") "
   ]
  },
  {
   "cell_type": "code",
   "execution_count": 8,
   "metadata": {},
   "outputs": [
    {
     "name": "stdout",
     "output_type": "stream",
     "text": [
      "Sedat   yasin   furkan\n"
     ]
    }
   ],
   "source": [
    "print(\"Sedat\" , \"yasin\" , \"furkan\" , sep =\"   \") "
   ]
  },
  {
   "cell_type": "code",
   "execution_count": 6,
   "metadata": {},
   "outputs": [
    {
     "name": "stdout",
     "output_type": "stream",
     "text": [
      "Sedat-yasin-furkan\n"
     ]
    }
   ],
   "source": [
    "print(\"Sedat\",\"yasin\",\"furkan\" , sep =\"-\") "
   ]
  },
  {
   "cell_type": "code",
   "execution_count": 11,
   "metadata": {},
   "outputs": [
    {
     "name": "stdout",
     "output_type": "stream",
     "text": [
      "Sedat😀yasin😀furkan\n"
     ]
    }
   ],
   "source": [
    "print(\"Sedat\" , \"yasin\" , \"furkan\" , sep =\"\\U0001F600\") "
   ]
  },
  {
   "cell_type": "code",
   "execution_count": null,
   "metadata": {},
   "outputs": [],
   "source": [
    "# sep parametresi printe özel bir parametredir.\n",
    "# print te değişkenler arası  virgül olmasssa değerler arasında hata verir"
   ]
  },
  {
   "cell_type": "code",
   "execution_count": 3,
   "metadata": {},
   "outputs": [
    {
     "name": "stdout",
     "output_type": "stream",
     "text": [
      "sedat -yasin -furkan\n"
     ]
    }
   ],
   "source": [
    "print(\"sedat\",\"yasin\",\"furkan\",sep=\" -\")"
   ]
  },
  {
   "cell_type": "code",
   "execution_count": 8,
   "metadata": {},
   "outputs": [
    {
     "name": "stdout",
     "output_type": "stream",
     "text": [
      "Sedat,yasin,furkan\n"
     ]
    }
   ],
   "source": [
    "print(\"Sedat\",\"yasin\",\"furkan\",sep =\",\" ) "
   ]
  },
  {
   "cell_type": "code",
   "execution_count": 13,
   "metadata": {},
   "outputs": [
    {
     "ename": "SyntaxError",
     "evalue": "invalid syntax (181745172.py, line 1)",
     "output_type": "error",
     "traceback": [
      "\u001b[1;36m  Cell \u001b[1;32mIn[13], line 1\u001b[1;36m\u001b[0m\n\u001b[1;33m    print(\"Sedat\" , \"yasin\" , \"furkan\" , sep = -) # sep string olmak zorunda\u001b[0m\n\u001b[1;37m                                                ^\u001b[0m\n\u001b[1;31mSyntaxError\u001b[0m\u001b[1;31m:\u001b[0m invalid syntax\n"
     ]
    }
   ],
   "source": [
    "print(\"Sedat\" , \"yasin\" , \"furkan\" , sep = -) # sep string olmak zorunda"
   ]
  },
  {
   "cell_type": "code",
   "execution_count": 14,
   "metadata": {},
   "outputs": [
    {
     "name": "stdout",
     "output_type": "stream",
     "text": [
      "Cenk\n",
      "Cenk\n",
      "Cenk\n"
     ]
    }
   ],
   "source": [
    "print(\"Cenk\")  # herbirinde end =\"\\n\" şeklindedir.\n",
    "print(\"Cenk\")\n",
    "print(\"Cenk\")"
   ]
  },
  {
   "cell_type": "markdown",
   "metadata": {},
   "source": []
  },
  {
   "cell_type": "code",
   "execution_count": 5,
   "metadata": {},
   "outputs": [
    {
     "name": "stdout",
     "output_type": "stream",
     "text": [
      "Cenk**Cenk\n",
      "Cenk\n"
     ]
    },
    {
     "ename": "",
     "evalue": "",
     "output_type": "error",
     "traceback": [
      "\u001b[1;31mThe Kernel crashed while executing code in the current cell or a previous cell. \n",
      "\u001b[1;31mPlease review the code in the cell(s) to identify a possible cause of the failure. \n",
      "\u001b[1;31mClick <a href='https://aka.ms/vscodeJupyterKernelCrash'>here</a> for more info. \n",
      "\u001b[1;31mView Jupyter <a href='command:jupyter.viewOutput'>log</a> for further details."
     ]
    }
   ],
   "source": [
    "print(\"Cenk\" , end= \"**\")\n",
    "print(\"Cenk\")\n",
    "print(\"Cenk\")"
   ]
  },
  {
   "cell_type": "code",
   "execution_count": 16,
   "metadata": {},
   "outputs": [
    {
     "name": "stdout",
     "output_type": "stream",
     "text": [
      "Selim!Ali**Gazi\n",
      "Yakup?"
     ]
    }
   ],
   "source": [
    "print(\"Selim\" , end=\"!\")\n",
    "print(\"Ali\" , \"Gazi\" , sep =\"**\") # bu satırda görünmeyen end =(\\n) var\n",
    "print(\"Yakup\", end=\"?\")"
   ]
  },
  {
   "cell_type": "markdown",
   "metadata": {},
   "source": [
    "## f-string"
   ]
  },
  {
   "cell_type": "code",
   "execution_count": null,
   "metadata": {},
   "outputs": [],
   "source": [
    "#string ifadeleri yazarken aralarına değişkenleri eklediğimiz bir özelliktir.\n",
    "#string ifadenin en başına yazılır ve string ifadenin içine {} açılarak yazılır"
   ]
  },
  {
   "cell_type": "code",
   "execution_count": 22,
   "metadata": {},
   "outputs": [],
   "source": [
    "name = \"Hakkı\"\n",
    "age = 34\n",
    "job = \"data analyst\"\n"
   ]
  },
  {
   "cell_type": "code",
   "execution_count": 23,
   "metadata": {},
   "outputs": [
    {
     "name": "stdout",
     "output_type": "stream",
     "text": [
      "Bneim adım Hakkı yaşım 34 mesleğim data analyst\n"
     ]
    }
   ],
   "source": [
    "print(f\"Bneim adım {name} yaşım {age} mesleğim { job}\")"
   ]
  },
  {
   "cell_type": "code",
   "execution_count": 24,
   "metadata": {},
   "outputs": [
    {
     "name": "stdout",
     "output_type": "stream",
     "text": [
      "a ile b nin toplamı : 15\n"
     ]
    }
   ],
   "source": [
    "a = 5\n",
    "b = 10\n",
    "print(f\"a ile b nin toplamı : {a + b}\")"
   ]
  },
  {
   "cell_type": "markdown",
   "metadata": {},
   "source": [
    "## .format()"
   ]
  },
  {
   "cell_type": "code",
   "execution_count": 29,
   "metadata": {},
   "outputs": [
    {
     "name": "stdout",
     "output_type": "stream",
     "text": [
      "Benim adım Hakkı yaşım 34 mesleğim data analyst\n"
     ]
    }
   ],
   "source": [
    "name = \"Hakkı\"\n",
    "age = 34\n",
    "job = \"data analyst\"\n",
    "print(\"Benim adım {} yaşım {} mesleğim {}\" .format(name , age , job)) # süslü parantezlerin arasında boşluk olmasın."
   ]
  },
  {
   "cell_type": "code",
   "execution_count": 30,
   "metadata": {},
   "outputs": [
    {
     "name": "stdout",
     "output_type": "stream",
     "text": [
      "Benim adım data analyst yaşım Hakkı mesleğim 34\n"
     ]
    }
   ],
   "source": [
    "name = \"Hakkı\"\n",
    "age = 34\n",
    "job = \"data analyst\"\n",
    "print(\"Benim adım {2} yaşım {0} mesleğim {1}\" .format(name , age , job))  # yazım sıralamasını belirtebiliyoruz."
   ]
  },
  {
   "cell_type": "markdown",
   "metadata": {},
   "source": [
    "# input()"
   ]
  },
  {
   "cell_type": "code",
   "execution_count": 31,
   "metadata": {},
   "outputs": [
    {
     "data": {
      "text/plain": [
       "'34'"
      ]
     },
     "execution_count": 31,
     "metadata": {},
     "output_type": "execute_result"
    }
   ],
   "source": [
    "input(\"lütfen yaşınızı giriniz\")"
   ]
  },
  {
   "cell_type": "code",
   "execution_count": 35,
   "metadata": {},
   "outputs": [
    {
     "name": "stdout",
     "output_type": "stream",
     "text": [
      "yaşınız 34 doğum yılınız 1990\n"
     ]
    }
   ],
   "source": [
    "yas = int(input(\"Lütfen yaşınızı yazınız.Örnek :34\"))\n",
    "inyear =2024\n",
    "yılı = inyear - yas \n",
    "print(f\"yaşınız {yas} doğum yılınız {yılı}\")"
   ]
  },
  {
   "cell_type": "code",
   "execution_count": 37,
   "metadata": {},
   "outputs": [
    {
     "name": "stdout",
     "output_type": "stream",
     "text": [
      "Boyunuz 1.77 , kilonuz 77 , vki : 24.577867151840145\n"
     ]
    }
   ],
   "source": [
    "kilo = int(input(\"Lütfen kilonuzu giriniz.(kg cinsinde)\"))\n",
    "boy = float(input(\"Boyunuzu metre cinsinden yazınız.Örnek: 1.77\"))\n",
    "vki = kilo / (boy ** 2)\n",
    "print(f\"Boyunuz {boy} , kilonuz {kilo} , vki : {vki}\")"
   ]
  },
  {
   "cell_type": "code",
   "execution_count": null,
   "metadata": {},
   "outputs": [],
   "source": []
  },
  {
   "cell_type": "code",
   "execution_count": 38,
   "metadata": {},
   "outputs": [
    {
     "name": "stdout",
     "output_type": "stream",
     "text": [
      "178.0\n"
     ]
    }
   ],
   "source": [
    "a = 178\n",
    "print(float(a))"
   ]
  },
  {
   "cell_type": "code",
   "execution_count": null,
   "metadata": {},
   "outputs": [],
   "source": []
  },
  {
   "cell_type": "code",
   "execution_count": null,
   "metadata": {},
   "outputs": [],
   "source": []
  }
 ],
 "metadata": {
  "kernelspec": {
   "display_name": "Python 3",
   "language": "python",
   "name": "python3"
  },
  "language_info": {
   "codemirror_mode": {
    "name": "ipython",
    "version": 3
   },
   "file_extension": ".py",
   "mimetype": "text/x-python",
   "name": "python",
   "nbconvert_exporter": "python",
   "pygments_lexer": "ipython3",
   "version": "3.12.2"
  }
 },
 "nbformat": 4,
 "nbformat_minor": 2
}
